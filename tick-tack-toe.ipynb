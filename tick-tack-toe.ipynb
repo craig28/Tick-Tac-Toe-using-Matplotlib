{
 "cells": [
  {
   "cell_type": "code",
   "execution_count": 423,
   "id": "f130ca14",
   "metadata": {},
   "outputs": [],
   "source": [
    "import matplotlib as mpl\n",
    "import matplotlib.pyplot as plt"
   ]
  },
  {
   "cell_type": "code",
   "execution_count": 424,
   "id": "8edacfc4",
   "metadata": {},
   "outputs": [],
   "source": [
    "class Cell:\n",
    "    'A position on the Board'\n",
    "    def __init__(self, location):\n",
    "        self.location = location\n",
    "        chars = [c for c in self.location]\n",
    "        self.x = int(chars[0])\n",
    "        self.y = -1 * int(chars[1])\n",
    "        self.symbol = None\n",
    "           "
   ]
  },
  {
   "cell_type": "code",
   "execution_count": 425,
   "id": "bded1a81",
   "metadata": {},
   "outputs": [],
   "source": [
    "class TTTBoard:\n",
    "    'Tick Tack Toe Board using Matplotlib'\n",
    "    def __init__(self):\n",
    "        'Generate Board Cells'\n",
    "        self.cells = {}  # dictionary for location ('ij') lookup\n",
    "        for i in range(1,4):\n",
    "            for j in range(1,4):\n",
    "                location = f'{i}' + f'{j}'\n",
    "                cell = Cell(location)\n",
    "                self.cells[location] = cell\n",
    "        self.ax = None\n",
    "        self.fig = None\n",
    "                \n",
    "    def drawX(self, cell):\n",
    "        \"Draw an 'X'\"\n",
    "        self.ax.plot([cell.x-0.4, cell.x+0.4], [cell.y-0.4, cell.y+0.4], color='b')\n",
    "        self.ax.plot([cell.x-0.4, cell.x+0.4], [cell.y+0.4, cell.y-0.4], color='b')\n",
    "        \n",
    "    def drawO(self, cell):\n",
    "        \"Draw an 'O'\"\n",
    "        circ = mpl.patches.Circle((cell.x, cell.y), radius=0.4, linewidth=1, edgecolor='r', facecolor='w')\n",
    "        self.ax.add_patch(circ)      \n",
    "    \n",
    "    def drawBoard(self):\n",
    "        # draw board\n",
    "        fig, ax = plt.subplots()\n",
    "        self.ax = ax\n",
    "        self.fig = fig\n",
    "        plt.xlim((0,4))\n",
    "        plt.ylim((-4,-0.0))\n",
    "        self.ax.set_xticks([1,2,3])\n",
    "        self.ax.set_yticks([-1, -2, -3],['1','2','3'])\n",
    "        for location in self.cells:\n",
    "            cell = self.cells[location]\n",
    "            x = cell.x - 0.5\n",
    "            y = cell.y - 0.5\n",
    "            rect = mpl.patches.Rectangle((x,y), 1, 1, linewidth=1, edgecolor='k', facecolor='w')\n",
    "            self.ax.add_patch(rect)\n",
    "            if cell.symbol == 'X':\n",
    "                self.drawX(cell)\n",
    "            elif cell.symbol == 'O':\n",
    "                self.drawO(cell)\n",
    "        self.ax.plot()\n",
    "        plt.show()\n",
    "        \n",
    "        "
   ]
  },
  {
   "cell_type": "code",
   "execution_count": 426,
   "id": "bd19b00b",
   "metadata": {},
   "outputs": [],
   "source": [
    "# Tick-Tack-Toe in OOP and matplotlib\n",
    "class TTT:\n",
    "    'game of TTT'\n",
    "    def __init__(self):\n",
    "        self.board = TTTBoard()\n",
    "        self.board.drawBoard()\n",
    "        self.currentPlayer = 'X'\n",
    "        self.gameOver = False\n",
    "        self.winner = None\n",
    "        \n",
    "    def changePlayer(self):\n",
    "        if self.currentPlayer == 'X':\n",
    "            self.currentPlayer = 'O'\n",
    "        else:\n",
    "            self.currentPlayer = 'X'\n",
    "          \n",
    "    def validateMove(self, move):\n",
    "        if move.upper() == 'RESIGN' or move.upper() == 'QUIT':\n",
    "            self.gameOver = True\n",
    "            self.changePlayer() # other player wins\n",
    "            self.winner = self.currentPlayer\n",
    "            return True\n",
    "        elif move in set(['11', '12', '13', '21', '22', '23', '31', '32', '33']) \\\n",
    "            and self.board.cells[move].symbol == None:\n",
    "                self.board.cells[move].symbol = self.currentPlayer\n",
    "                return True\n",
    "        else:\n",
    "            print('Invalid move.  Try again.')\n",
    "            self.playerMove(self.currentPlayer)\n",
    "            return False\n",
    "        \n",
    "    def checkWin(self, move):\n",
    "        # check is after a move so check for current player only or draw and\n",
    "        # only check row, column diagonals that are part if current move\n",
    "        if self.gameOver:   # quit or resign\n",
    "            return\n",
    "        chars = [c for c in move]\n",
    "        col = chars[0] # x\n",
    "        row = chars[1] # y\n",
    "        symbols = [self.board.cells[key].symbol for key in self.board.cells.keys()]\n",
    "        # only need to check y row\n",
    "        if self.board.cells['1' + row].symbol == self.board.cells['2'+ row].symbol and \\\n",
    "            self.board.cells['2' + row].symbol == self.board.cells['3' + row].symbol:\n",
    "            self.winner = self.currentPlayer\n",
    "            self.gameOver = True\n",
    "            return\n",
    "        # only need to check x column\n",
    "        elif self.board.cells[col + '1'].symbol == self.board.cells[col + '2'].symbol and \\\n",
    "            self.board.cells[col + '2'].symbol == self.board.cells[col + '3'].symbol:\n",
    "            self.winner = self.currentPlayer\n",
    "            self.gameOver = True\n",
    "            return\n",
    "        # diagonals\n",
    "        elif move in ['11', '13', '31', '33', '22'] and self.board.cells['22'].symbol != None: \n",
    "            if self.board.cells['11'].symbol == self.board.cells['22'].symbol and \\\n",
    "                self.board.cells['22'].symbol == self.board.cells['33'].symbol:\n",
    "                self.winner = self.currentPlayer\n",
    "                self.gameOver = True\n",
    "                return\n",
    "            elif self.board.cells['13'].symbol == self.board.cells['22'].symbol and \\\n",
    "                self.board.cells['22'].symbol == self.board.cells['31'].symbol:\n",
    "                self.winner = self.currentPlayer\n",
    "                self.gameOver = True\n",
    "                return\n",
    "        # draw\n",
    "        if all(symbols):\n",
    "            print('No Winner.')\n",
    "            self.gameOver = True \n",
    "    \n",
    "    def playerMove(self, currentPlayer):\n",
    "        # get move\n",
    "        move = input(f'Player {currentPlayer}, make your move:')\n",
    "        if self.validateMove(move):\n",
    "            self.board.drawBoard()\n",
    "            self.checkWin(move)\n",
    "            self.changePlayer()\n",
    "        \n",
    "        \n",
    "    def play(self):\n",
    "        'Play the game'\n",
    "        print('\"X\" goes first')\n",
    "        while not self.gameOver:\n",
    "            self.playerMove(self.currentPlayer)\n",
    "        print('Game Over')\n",
    "        if self.winner != None:\n",
    "            print(f'{self.winner} has won!')\n",
    "        return\n",
    "\n",
    "    "
   ]
  },
  {
   "cell_type": "code",
   "execution_count": 427,
   "id": "44f38801",
   "metadata": {},
   "outputs": [
    {
     "data": {
      "image/png": "[encoded data removed]",
      "text/plain": [
       "<Figure size 432x288 with 1 Axes>"
      ]
     },
     "metadata": {
      "needs_background": "light"
     },
     "output_type": "display_data"
    },
    {
     "name": "stdout",
     "output_type": "stream",
     "text": [
      "\"X\" goes first\n",
      "Player X, make your move:11\n"
     ]
    },
    {
     "data": {
      "image/png": "[encoded data removed]",
      "text/plain": [
       "<Figure size 432x288 with 1 Axes>"
      ]
     },
     "metadata": {
      "needs_background": "light"
     },
     "output_type": "display_data"
    },
    {
     "name": "stdout",
     "output_type": "stream",
     "text": [
      "Player O, make your move:22\n"
     ]
    },
    {
     "data": {
      "image/png": "[encoded data removed]",
      "text/plain": [
       "<Figure size 432x288 with 1 Axes>"
      ]
     },
     "metadata": {
      "needs_background": "light"
     },
     "output_type": "display_data"
    },
    {
     "name": "stdout",
     "output_type": "stream",
     "text": [
      "Player X, make your move:21\n"
     ]
    },
    {
     "data": {
      "image/png": "[encoded data removed]",
      "text/plain": [
       "<Figure size 432x288 with 1 Axes>"
      ]
     },
     "metadata": {
      "needs_background": "light"
     },
     "output_type": "display_data"
    },
    {
     "name": "stdout",
     "output_type": "stream",
     "text": [
      "Player O, make your move:13\n"
     ]
    },
    {
     "data": {
      "image/png": "[encoded data removed]",
      "text/plain": [
       "<Figure size 432x288 with 1 Axes>"
      ]
     },
     "metadata": {
      "needs_background": "light"
     },
     "output_type": "display_data"
    },
    {
     "name": "stdout",
     "output_type": "stream",
     "text": [
      "Player X, make your move:31\n"
     ]
    },
    {
     "data": {
      "image/png": "[encoded data removed]",
      "text/plain": [
       "<Figure size 432x288 with 1 Axes>"
      ]
     },
     "metadata": {
      "needs_background": "light"
     },
     "output_type": "display_data"
    },
    {
     "name": "stdout",
     "output_type": "stream",
     "text": [
      "Game Over\n",
      "X has won!\n"
     ]
    }
   ],
   "source": [
    "game = TTT()\n",
    "game.play()"
   ]
  },
  {
   "cell_type": "code",
   "execution_count": null,
   "id": "9c4defe7",
   "metadata": {},
   "outputs": [],
   "source": []
  },
  {
   "cell_type": "code",
   "execution_count": null,
   "id": "48a54b87",
   "metadata": {},
   "outputs": [],
   "source": []
  },
  {
   "cell_type": "code",
   "execution_count": null,
   "id": "b1aaea2a",
   "metadata": {},
   "outputs": [],
   "source": []
  },
  {
   "cell_type": "code",
   "execution_count": null,
   "id": "2aab7d66",
   "metadata": {},
   "outputs": [],
   "source": []
  }
 ],
 "metadata": {
  "kernelspec": {
   "display_name": "Python 3 (ipykernel)",
   "language": "python",
   "name": "python3"
  },
  "language_info": {
   "codemirror_mode": {
    "name": "ipython",
    "version": 3
   },
   "file_extension": ".py",
   "mimetype": "text/x-python",
   "name": "python",
   "nbconvert_exporter": "python",
   "pygments_lexer": "ipython3",
   "version": "3.8.2"
  }
 },
 "nbformat": 4,
 "nbformat_minor": 5
}
